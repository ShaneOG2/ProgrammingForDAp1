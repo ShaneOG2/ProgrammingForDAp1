{
 "cells": [
  {
   "cell_type": "code",
   "execution_count": 33,
   "id": "d8f5ea01",
   "metadata": {},
   "outputs": [],
   "source": [
    "#https://github.com/KeithGalli/Pandas-Data-Science-Tasks/blob/master/Misc/create_data.py\n",
    "import pandas as pd\n",
    "import numpy as np\n",
    "import datetime\n",
    "import random"
   ]
  },
  {
   "cell_type": "code",
   "execution_count": 10,
   "id": "63ce0968",
   "metadata": {},
   "outputs": [],
   "source": [
    "columns = ['Order ID', 'Product', 'Quantity Ordered', 'Price Each', 'Order Date', 'Purchase Address']"
   ]
  },
  {
   "cell_type": "code",
   "execution_count": 11,
   "id": "61fd731c",
   "metadata": {},
   "outputs": [],
   "source": [
    "products = {\n",
    "    # Product: [Price, weight]\n",
    "    'iPhone': [700, 10], \n",
    "    'Google Phone': [600, 8],\n",
    "    'Vareebadd Phone': [400, 3],\n",
    "    '20in Monitor': [109.99,6],\n",
    "    '34in Ultrawide Monitor': [379.99, 9],\n",
    "    '27in 4K Gaming Monitor': [389.99,9],\n",
    "    '27in FHD Monitor': [149.99, 11],\n",
    "    'Flatscreen TV': [300, 7],\n",
    "    'Macbook Pro Laptop': [1700, 7],\n",
    "    'ThinkPad Laptop': [999.99, 6],\n",
    "    'AA Batteries (4-pack)': [3.84, 30],\n",
    "    'AAA Batteries (4-pack)': [2.99, 30],\n",
    "    'USB-C Charging Cable': [11.95, 30],\n",
    "    'Lightning Charging Cable': [14.95, 30],\n",
    "    'Wired Headphones': [11.99, 26],\n",
    "    'Bose SoundSport Headphones': [99.99, 19],\n",
    "    'Apple Airpods Headphones': [150, 22],\n",
    "    'LG Washing Machine': [600.00, 1],\n",
    "    'LG Dryer': [600.00, 1]\n",
    "}"
   ]
  },
  {
   "cell_type": "code",
   "execution_count": 12,
   "id": "86431107",
   "metadata": {},
   "outputs": [],
   "source": [
    "df = pd.DataFrame(columns=columns)"
   ]
  },
  {
   "cell_type": "code",
   "execution_count": 29,
   "id": "3db29f52",
   "metadata": {},
   "outputs": [],
   "source": [
    "for i in range(1000):\n",
    "    product_list = [product for product in products]\n",
    "    weights = [products[product][1] for product in products]\n",
    "    \n",
    "    product = random.choices(product_list, weights)[0]\n",
    "    price = products[product]\n",
    "    df.loc[i] = [i, product, 1, price[0], \"NA\", \"NA\"]"
   ]
  },
  {
   "cell_type": "code",
   "execution_count": 30,
   "id": "d0418849",
   "metadata": {},
   "outputs": [
    {
     "data": {
      "text/html": [
       "<div>\n",
       "<style scoped>\n",
       "    .dataframe tbody tr th:only-of-type {\n",
       "        vertical-align: middle;\n",
       "    }\n",
       "\n",
       "    .dataframe tbody tr th {\n",
       "        vertical-align: top;\n",
       "    }\n",
       "\n",
       "    .dataframe thead th {\n",
       "        text-align: right;\n",
       "    }\n",
       "</style>\n",
       "<table border=\"1\" class=\"dataframe\">\n",
       "  <thead>\n",
       "    <tr style=\"text-align: right;\">\n",
       "      <th></th>\n",
       "      <th>Order ID</th>\n",
       "      <th>Product</th>\n",
       "      <th>Quantity Ordered</th>\n",
       "      <th>Price Each</th>\n",
       "      <th>Order Date</th>\n",
       "      <th>Purchase Address</th>\n",
       "    </tr>\n",
       "  </thead>\n",
       "  <tbody>\n",
       "    <tr>\n",
       "      <th>0</th>\n",
       "      <td>0</td>\n",
       "      <td>Bose SoundSport Headphones</td>\n",
       "      <td>1</td>\n",
       "      <td>99.99</td>\n",
       "      <td>NA</td>\n",
       "      <td>NA</td>\n",
       "    </tr>\n",
       "    <tr>\n",
       "      <th>1</th>\n",
       "      <td>1</td>\n",
       "      <td>Apple Airpods Headphones</td>\n",
       "      <td>1</td>\n",
       "      <td>150</td>\n",
       "      <td>NA</td>\n",
       "      <td>NA</td>\n",
       "    </tr>\n",
       "    <tr>\n",
       "      <th>2</th>\n",
       "      <td>2</td>\n",
       "      <td>AA Batteries (4-pack)</td>\n",
       "      <td>1</td>\n",
       "      <td>3.84</td>\n",
       "      <td>NA</td>\n",
       "      <td>NA</td>\n",
       "    </tr>\n",
       "    <tr>\n",
       "      <th>3</th>\n",
       "      <td>3</td>\n",
       "      <td>Wired Headphones</td>\n",
       "      <td>1</td>\n",
       "      <td>11.99</td>\n",
       "      <td>NA</td>\n",
       "      <td>NA</td>\n",
       "    </tr>\n",
       "    <tr>\n",
       "      <th>4</th>\n",
       "      <td>4</td>\n",
       "      <td>USB-C Charging Cable</td>\n",
       "      <td>1</td>\n",
       "      <td>11.95</td>\n",
       "      <td>NA</td>\n",
       "      <td>NA</td>\n",
       "    </tr>\n",
       "  </tbody>\n",
       "</table>\n",
       "</div>"
      ],
      "text/plain": [
       "   Order ID                     Product  Quantity Ordered Price Each  \\\n",
       "0         0  Bose SoundSport Headphones                 1      99.99   \n",
       "1         1    Apple Airpods Headphones                 1        150   \n",
       "2         2       AA Batteries (4-pack)                 1       3.84   \n",
       "3         3            Wired Headphones                 1      11.99   \n",
       "4         4        USB-C Charging Cable                 1      11.95   \n",
       "\n",
       "  Order Date Purchase Address  \n",
       "0         NA               NA  \n",
       "1         NA               NA  \n",
       "2         NA               NA  \n",
       "3         NA               NA  \n",
       "4         NA               NA  "
      ]
     },
     "execution_count": 30,
     "metadata": {},
     "output_type": "execute_result"
    }
   ],
   "source": [
    "df.head()"
   ]
  },
  {
   "cell_type": "code",
   "execution_count": null,
   "id": "3c9479ed",
   "metadata": {},
   "outputs": [],
   "source": []
  },
  {
   "cell_type": "code",
   "execution_count": null,
   "id": "e5d42640",
   "metadata": {},
   "outputs": [],
   "source": []
  },
  {
   "cell_type": "code",
   "execution_count": null,
   "id": "509294ad",
   "metadata": {},
   "outputs": [],
   "source": []
  },
  {
   "cell_type": "code",
   "execution_count": 31,
   "id": "289b588a",
   "metadata": {},
   "outputs": [],
   "source": [
    "columns1 = ['grade', 'hours', 'logins', 'qual']"
   ]
  },
  {
   "cell_type": "code",
   "execution_count": 32,
   "id": "592f1ae2",
   "metadata": {},
   "outputs": [],
   "source": [
    "# grade \n",
    "# hours - the number of hours on average a student studies per week \n",
    "# login - number of times they log onto Moodle in the first three weeks of term \n",
    "# qual - highest degree \n",
    "\n",
    "# grade - int 0-100\n",
    "# hours - non-negative real number with two decimal places\n",
    "# logins - non-negative real number \n",
    "# qual - categorical variable with four possible values: none, bachelors, masters, or phd."
   ]
  },
  {
   "cell_type": "code",
   "execution_count": null,
   "id": "53233123",
   "metadata": {},
   "outputs": [],
   "source": [
    "# Proportion in class\n",
    "{\n",
    "    \"none\": 5,\n",
    "    \"bachelors\": 60,\n",
    "    \"masters\": 20,\n",
    "    \"phd\": 10,\n",
    "}\n",
    "\n",
    "# logins first 3 weeks. \n",
    "{\n",
    "    \"none\": 3,\n",
    "    \"bachelors\": 5,\n",
    "    \"masters\": 4,\n",
    "    \"phd\": 4,\n",
    "}\n",
    "\n",
    "# Mean: Hours of study and SD by each qual NORMAL\n",
    "{\n",
    "    \"none\": [2, 0.5],\n",
    "    \"bachelors\": [3, 1],\n",
    "    \"masters\": [4, 0.25],\n",
    "    \"phd\": [4, 0.25],\n",
    "}\n"
   ]
  }
 ],
 "metadata": {
  "kernelspec": {
   "display_name": "Python 3 (ipykernel)",
   "language": "python",
   "name": "python3"
  },
  "language_info": {
   "codemirror_mode": {
    "name": "ipython",
    "version": 3
   },
   "file_extension": ".py",
   "mimetype": "text/x-python",
   "name": "python",
   "nbconvert_exporter": "python",
   "pygments_lexer": "ipython3",
   "version": "3.9.13"
  }
 },
 "nbformat": 4,
 "nbformat_minor": 5
}
