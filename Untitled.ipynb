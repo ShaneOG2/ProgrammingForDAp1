{
 "cells": [
  {
   "cell_type": "code",
   "execution_count": 3,
   "id": "d8f5ea01",
   "metadata": {},
   "outputs": [],
   "source": [
    "#https://github.com/KeithGalli/Pandas-Data-Science-Tasks/blob/master/Misc/create_data.py\n",
    "import pandas as pd\n",
    "import numpy as np\n",
    "import datetime\n",
    "import random"
   ]
  },
  {
   "cell_type": "code",
   "execution_count": 10,
   "id": "63ce0968",
   "metadata": {},
   "outputs": [],
   "source": [
    "columns = ['Order ID', 'Product', 'Quantity Ordered', 'Price Each', 'Order Date', 'Purchase Address']"
   ]
  },
  {
   "cell_type": "code",
   "execution_count": 11,
   "id": "61fd731c",
   "metadata": {},
   "outputs": [],
   "source": [
    "products = {\n",
    "    # Product: [Price, weight]\n",
    "    'iPhone': [700, 10], \n",
    "    'Google Phone': [600, 8],\n",
    "    'Vareebadd Phone': [400, 3],\n",
    "    '20in Monitor': [109.99,6],\n",
    "    '34in Ultrawide Monitor': [379.99, 9],\n",
    "    '27in 4K Gaming Monitor': [389.99,9],\n",
    "    '27in FHD Monitor': [149.99, 11],\n",
    "    'Flatscreen TV': [300, 7],\n",
    "    'Macbook Pro Laptop': [1700, 7],\n",
    "    'ThinkPad Laptop': [999.99, 6],\n",
    "    'AA Batteries (4-pack)': [3.84, 30],\n",
    "    'AAA Batteries (4-pack)': [2.99, 30],\n",
    "    'USB-C Charging Cable': [11.95, 30],\n",
    "    'Lightning Charging Cable': [14.95, 30],\n",
    "    'Wired Headphones': [11.99, 26],\n",
    "    'Bose SoundSport Headphones': [99.99, 19],\n",
    "    'Apple Airpods Headphones': [150, 22],\n",
    "    'LG Washing Machine': [600.00, 1],\n",
    "    'LG Dryer': [600.00, 1]\n",
    "}"
   ]
  },
  {
   "cell_type": "code",
   "execution_count": 12,
   "id": "86431107",
   "metadata": {},
   "outputs": [],
   "source": [
    "df = pd.DataFrame(columns=columns)"
   ]
  },
  {
   "cell_type": "code",
   "execution_count": 29,
   "id": "3db29f52",
   "metadata": {},
   "outputs": [],
   "source": [
    "for i in range(1000):\n",
    "    product_list = [product for product in products]\n",
    "    weights = [products[product][1] for product in products]\n",
    "    \n",
    "    product = random.choices(product_list, weights)[0]\n",
    "    price = products[product]\n",
    "    df.loc[i] = [i, product, 1, price[0], \"NA\", \"NA\"]"
   ]
  },
  {
   "cell_type": "code",
   "execution_count": 30,
   "id": "d0418849",
   "metadata": {},
   "outputs": [
    {
     "data": {
      "text/html": [
       "<div>\n",
       "<style scoped>\n",
       "    .dataframe tbody tr th:only-of-type {\n",
       "        vertical-align: middle;\n",
       "    }\n",
       "\n",
       "    .dataframe tbody tr th {\n",
       "        vertical-align: top;\n",
       "    }\n",
       "\n",
       "    .dataframe thead th {\n",
       "        text-align: right;\n",
       "    }\n",
       "</style>\n",
       "<table border=\"1\" class=\"dataframe\">\n",
       "  <thead>\n",
       "    <tr style=\"text-align: right;\">\n",
       "      <th></th>\n",
       "      <th>Order ID</th>\n",
       "      <th>Product</th>\n",
       "      <th>Quantity Ordered</th>\n",
       "      <th>Price Each</th>\n",
       "      <th>Order Date</th>\n",
       "      <th>Purchase Address</th>\n",
       "    </tr>\n",
       "  </thead>\n",
       "  <tbody>\n",
       "    <tr>\n",
       "      <th>0</th>\n",
       "      <td>0</td>\n",
       "      <td>Bose SoundSport Headphones</td>\n",
       "      <td>1</td>\n",
       "      <td>99.99</td>\n",
       "      <td>NA</td>\n",
       "      <td>NA</td>\n",
       "    </tr>\n",
       "    <tr>\n",
       "      <th>1</th>\n",
       "      <td>1</td>\n",
       "      <td>Apple Airpods Headphones</td>\n",
       "      <td>1</td>\n",
       "      <td>150</td>\n",
       "      <td>NA</td>\n",
       "      <td>NA</td>\n",
       "    </tr>\n",
       "    <tr>\n",
       "      <th>2</th>\n",
       "      <td>2</td>\n",
       "      <td>AA Batteries (4-pack)</td>\n",
       "      <td>1</td>\n",
       "      <td>3.84</td>\n",
       "      <td>NA</td>\n",
       "      <td>NA</td>\n",
       "    </tr>\n",
       "    <tr>\n",
       "      <th>3</th>\n",
       "      <td>3</td>\n",
       "      <td>Wired Headphones</td>\n",
       "      <td>1</td>\n",
       "      <td>11.99</td>\n",
       "      <td>NA</td>\n",
       "      <td>NA</td>\n",
       "    </tr>\n",
       "    <tr>\n",
       "      <th>4</th>\n",
       "      <td>4</td>\n",
       "      <td>USB-C Charging Cable</td>\n",
       "      <td>1</td>\n",
       "      <td>11.95</td>\n",
       "      <td>NA</td>\n",
       "      <td>NA</td>\n",
       "    </tr>\n",
       "  </tbody>\n",
       "</table>\n",
       "</div>"
      ],
      "text/plain": [
       "   Order ID                     Product  Quantity Ordered Price Each  \\\n",
       "0         0  Bose SoundSport Headphones                 1      99.99   \n",
       "1         1    Apple Airpods Headphones                 1        150   \n",
       "2         2       AA Batteries (4-pack)                 1       3.84   \n",
       "3         3            Wired Headphones                 1      11.99   \n",
       "4         4        USB-C Charging Cable                 1      11.95   \n",
       "\n",
       "  Order Date Purchase Address  \n",
       "0         NA               NA  \n",
       "1         NA               NA  \n",
       "2         NA               NA  \n",
       "3         NA               NA  \n",
       "4         NA               NA  "
      ]
     },
     "execution_count": 30,
     "metadata": {},
     "output_type": "execute_result"
    }
   ],
   "source": [
    "df.head()"
   ]
  },
  {
   "cell_type": "code",
   "execution_count": null,
   "id": "3c9479ed",
   "metadata": {},
   "outputs": [],
   "source": []
  },
  {
   "cell_type": "code",
   "execution_count": null,
   "id": "e5d42640",
   "metadata": {},
   "outputs": [],
   "source": []
  },
  {
   "cell_type": "code",
   "execution_count": null,
   "id": "509294ad",
   "metadata": {},
   "outputs": [],
   "source": []
  },
  {
   "cell_type": "code",
   "execution_count": 31,
   "id": "289b588a",
   "metadata": {},
   "outputs": [],
   "source": [
    "columns1 = ['grade', 'hours', 'logins', 'qual']"
   ]
  },
  {
   "cell_type": "code",
   "execution_count": 32,
   "id": "592f1ae2",
   "metadata": {},
   "outputs": [],
   "source": [
    "# grade \n",
    "# hours - the number of hours on average a student studies per week \n",
    "# login - number of times they log onto Moodle in the first three weeks of term \n",
    "# qual - highest degree \n",
    "\n",
    "# grade - int 0-100\n",
    "# hours - non-negative real number with two decimal places\n",
    "# logins - non-negative real number \n",
    "# qual - categorical variable with four possible values: none, bachelors, masters, or phd."
   ]
  },
  {
   "cell_type": "code",
   "execution_count": 1,
   "id": "53233123",
   "metadata": {},
   "outputs": [
    {
     "data": {
      "text/plain": [
       "{'none': [2, 0.5], 'bachelors': [3, 1], 'masters': [4, 0.25], 'phd': [4, 0.25]}"
      ]
     },
     "execution_count": 1,
     "metadata": {},
     "output_type": "execute_result"
    }
   ],
   "source": [
    "# Proportion in class\n",
    "{\n",
    "    \"none\": 5,\n",
    "    \"bachelors\": 60,\n",
    "    \"masters\": 20,\n",
    "    \"phd\": 15,\n",
    "}\n",
    "\n",
    "# logins first 3 weeks. \n",
    "{\n",
    "    \"none\": 3,\n",
    "    \"bachelors\": 5,\n",
    "    \"masters\": 4,\n",
    "    \"phd\": 4,\n",
    "}\n",
    "\n",
    "# Mean: Hours of study and SD by each qual NORMAL\n",
    "{\n",
    "    \"none\": [2, 0.5],\n",
    "    \"bachelors\": [3, 1],\n",
    "    \"masters\": [4, 0.25],\n",
    "    \"phd\": [4, 0.25],\n",
    "}"
   ]
  },
  {
   "cell_type": "code",
   "execution_count": 29,
   "id": "41bfb6ec",
   "metadata": {},
   "outputs": [],
   "source": [
    "qual = np.random.choice([\"none\", \"bachelors\", \"masters\", \"phd\"], 100, p = [.05, .6, .2, .15])"
   ]
  },
  {
   "cell_type": "code",
   "execution_count": 30,
   "id": "4facbae3",
   "metadata": {},
   "outputs": [
    {
     "data": {
      "text/plain": [
       "{'bachelors': 59, 'masters': 19, 'none': 7, 'phd': 15}"
      ]
     },
     "execution_count": 30,
     "metadata": {},
     "output_type": "execute_result"
    }
   ],
   "source": [
    "unique, counts = np.unique(qual, return_counts=True)\n",
    "dict(zip(unique, counts))"
   ]
  },
  {
   "cell_type": "code",
   "execution_count": 40,
   "id": "d5cc5712",
   "metadata": {},
   "outputs": [],
   "source": [
    "hours = []\n",
    "for q in qual:\n",
    "    if q == \"none\":\n",
    "        mu1, sigma1 = 2, 0.5\n",
    "        result = np.random.normal(mu1, sigma1)\n",
    "\n",
    "    elif q == \"bachelors\":\n",
    "        mu2, sigma2 = 3, 1\n",
    "        result = np.random.normal(mu2, sigma2)\n",
    "\n",
    "    elif q == \"masters\":\n",
    "        mu3, sigma3 = 4, 0.5\n",
    "        result = np.random.normal(mu3, sigma3)\n",
    "\n",
    "    elif q == \"phd\":\n",
    "        mu4, sigma4 = 4, 1\n",
    "        result = np.random.normal(mu4, sigma4)\n",
    "    hours.append(result)"
   ]
  },
  {
   "cell_type": "code",
   "execution_count": 46,
   "id": "fdd04d32",
   "metadata": {},
   "outputs": [],
   "source": [
    "import matplotlib.pyplot as plt"
   ]
  },
  {
   "cell_type": "code",
   "execution_count": 48,
   "id": "3c84c739",
   "metadata": {},
   "outputs": [
    {
     "data": {
      "text/plain": [
       "(array([ 2.,  6.,  5.,  8.,  5., 15., 11., 24., 19.,  5.]),\n",
       " array([0.59586709, 1.02634627, 1.45682545, 1.88730462, 2.3177838 ,\n",
       "        2.74826298, 3.17874216, 3.60922134, 4.03970052, 4.4701797 ,\n",
       "        4.90065888]),\n",
       " <BarContainer object of 10 artists>)"
      ]
     },
     "execution_count": 48,
     "metadata": {},
     "output_type": "execute_result"
    },
    {
     "data": {
      "image/png": "[encoded data removed]",
      "text/plain": [
       "<Figure size 640x480 with 1 Axes>"
      ]
     },
     "metadata": {},
     "output_type": "display_data"
    }
   ],
   "source": [
    "plt.hist(hours)"
   ]
  },
  {
   "cell_type": "code",
   "execution_count": 52,
   "id": "2e7ee2a9",
   "metadata": {},
   "outputs": [
    {
     "name": "stderr",
     "output_type": "stream",
     "text": [
      "<>:1: SyntaxWarning: 'int' object is not callable; perhaps you missed a comma?\n",
      "<>:1: SyntaxWarning: 'int' object is not callable; perhaps you missed a comma?\n",
      "C:\\Users\\shane\\AppData\\Local\\Temp\\ipykernel_25048\\4138011651.py:1: SyntaxWarning: 'int' object is not callable; perhaps you missed a comma?\n",
      "  1+51(1**(np.random.exponential(1/4)))\n",
      "C:\\Users\\shane\\AppData\\Local\\Temp\\ipykernel_25048\\4138011651.py:1: SyntaxWarning: 'int' object is not callable; perhaps you missed a comma?\n",
      "  1+51(1**(np.random.exponential(1/4)))\n",
      "C:\\Users\\shane\\AppData\\Local\\Temp\\ipykernel_25048\\4138011651.py:1: SyntaxWarning: 'int' object is not callable; perhaps you missed a comma?\n",
      "  1+51(1**(np.random.exponential(1/4)))\n",
      "C:\\Users\\shane\\AppData\\Local\\Temp\\ipykernel_25048\\4138011651.py:1: SyntaxWarning: 'int' object is not callable; perhaps you missed a comma?\n",
      "  1+51(1**(np.random.exponential(1/4)))\n"
     ]
    },
    {
     "ename": "TypeError",
     "evalue": "'int' object is not callable",
     "output_type": "error",
     "traceback": [
      "\u001b[1;31m---------------------------------------------------------------------------\u001b[0m",
      "\u001b[1;31mTypeError\u001b[0m                                 Traceback (most recent call last)",
      "Input \u001b[1;32mIn [52]\u001b[0m, in \u001b[0;36m<cell line: 1>\u001b[1;34m()\u001b[0m\n\u001b[1;32m----> 1\u001b[0m \u001b[38;5;241m1\u001b[39m\u001b[38;5;241m+\u001b[39m\u001b[38;5;241;43m51\u001b[39;49m\u001b[43m(\u001b[49m\u001b[38;5;241;43m1\u001b[39;49m\u001b[38;5;241;43m*\u001b[39;49m\u001b[38;5;241;43m*\u001b[39;49m\u001b[43m(\u001b[49m\u001b[43mnp\u001b[49m\u001b[38;5;241;43m.\u001b[39;49m\u001b[43mrandom\u001b[49m\u001b[38;5;241;43m.\u001b[39;49m\u001b[43mexponential\u001b[49m\u001b[43m(\u001b[49m\u001b[38;5;241;43m1\u001b[39;49m\u001b[38;5;241;43m/\u001b[39;49m\u001b[38;5;241;43m4\u001b[39;49m\u001b[43m)\u001b[49m\u001b[43m)\u001b[49m\u001b[43m)\u001b[49m\n",
      "\u001b[1;31mTypeError\u001b[0m: 'int' object is not callable"
     ]
    }
   ],
   "source": [
    "1+51(1**(np.random.exponential(1/4)))"
   ]
  },
  {
   "cell_type": "code",
   "execution_count": 2,
   "id": "2c9725b1",
   "metadata": {},
   "outputs": [
    {
     "name": "stdout",
     "output_type": "stream",
     "text": [
      "[ 0.05634022 -0.12133313  0.16725519  0.29406509 -0.0038506 ]\n",
      "Portfolio return after 5 years = 1396.6078571248784\n"
     ]
    }
   ],
   "source": [
    "import numpy as np\n",
    "# rates is a Normal random variable and has size equal to number of years\n",
    "def portfolio_return(yrs, avg_return, volatility, principal):\n",
    "#     np.random.seed(123)\n",
    "    rates = np.random.normal(loc=avg_return, \n",
    "                             scale=volatility, \n",
    "                             size=yrs)\n",
    "    print(rates)\n",
    "    # Calculate the return at the end of the period\n",
    "    end_return = principal\n",
    "    for x in rates:\n",
    "        end_return = end_return * (1+x)\n",
    "    return end_return\n",
    "\n",
    "result = portfolio_return(yrs = 5, \n",
    "                          avg_return = 0.07, \n",
    "                          volatility = 0.15, \n",
    "                          principal = 1000)\n",
    "print(\"Portfolio return after 5 years = {}\".format(result))"
   ]
  },
  {
   "cell_type": "code",
   "execution_count": null,
   "id": "6e55a511",
   "metadata": {},
   "outputs": [],
   "source": []
  }
 ],
 "metadata": {
  "kernelspec": {
   "display_name": "Python 3 (ipykernel)",
   "language": "python",
   "name": "python3"
  },
  "language_info": {
   "codemirror_mode": {
    "name": "ipython",
    "version": 3
   },
   "file_extension": ".py",
   "mimetype": "text/x-python",
   "name": "python",
   "nbconvert_exporter": "python",
   "pygments_lexer": "ipython3",
   "version": "3.9.13"
  }
 },
 "nbformat": 4,
 "nbformat_minor": 5
}
